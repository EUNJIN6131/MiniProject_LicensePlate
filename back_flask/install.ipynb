{
 "cells": [
  {
   "cell_type": "code",
   "execution_count": null,
   "metadata": {},
   "outputs": [],
   "source": [
    "pip install torch"
   ]
  },
  {
   "cell_type": "code",
   "execution_count": null,
   "metadata": {},
   "outputs": [],
   "source": [
    "pip install opencv-python"
   ]
  },
  {
   "cell_type": "code",
   "execution_count": null,
   "metadata": {},
   "outputs": [],
   "source": [
    "pip install ultralytics"
   ]
  },
  {
   "cell_type": "code",
   "execution_count": null,
   "metadata": {},
   "outputs": [],
   "source": [
    "pip install boto3"
   ]
  },
  {
   "cell_type": "code",
   "execution_count": null,
   "metadata": {},
   "outputs": [],
   "source": [
    "pip install python-dotenv"
   ]
  },
  {
   "cell_type": "code",
   "execution_count": 4,
   "metadata": {},
   "outputs": [
    {
     "name": "stdout",
     "output_type": "stream",
     "text": [
      "Collecting roboflow\n",
      "  Downloading roboflow-1.1.6-py3-none-any.whl (58 kB)\n",
      "     ---------------------------------------- 58.7/58.7 kB 1.5 MB/s eta 0:00:00\n",
      "Collecting pyparsing==2.4.7\n",
      "  Downloading pyparsing-2.4.7-py2.py3-none-any.whl (67 kB)\n",
      "     ---------------------------------------- 67.8/67.8 kB 1.8 MB/s eta 0:00:00\n",
      "Requirement already satisfied: Pillow>=7.1.2 in c:\\users\\asdou\\anaconda3\\lib\\site-packages (from roboflow) (9.4.0)\n",
      "Requirement already satisfied: numpy>=1.18.5 in c:\\users\\asdou\\anaconda3\\lib\\site-packages (from roboflow) (1.23.5)\n",
      "Requirement already satisfied: matplotlib in c:\\users\\asdou\\anaconda3\\lib\\site-packages (from roboflow) (3.7.0)\n",
      "Requirement already satisfied: six in c:\\users\\asdou\\anaconda3\\lib\\site-packages (from roboflow) (1.16.0)\n",
      "Requirement already satisfied: python-dotenv in c:\\users\\asdou\\anaconda3\\lib\\site-packages (from roboflow) (1.0.0)\n",
      "Collecting supervision\n",
      "  Downloading supervision-0.14.0-py3-none-any.whl (63 kB)\n",
      "     ---------------------------------------- 63.3/63.3 kB ? eta 0:00:00\n",
      "Requirement already satisfied: requests-toolbelt in c:\\users\\asdou\\anaconda3\\lib\\site-packages (from roboflow) (0.9.1)\n",
      "Collecting opencv-python-headless==4.8.0.74\n",
      "  Downloading opencv_python_headless-4.8.0.74-cp37-abi3-win_amd64.whl (38.0 MB)\n",
      "     ---------------------------------------- 38.0/38.0 MB 9.0 MB/s eta 0:00:00\n",
      "Collecting cycler==0.10.0\n",
      "  Downloading cycler-0.10.0-py2.py3-none-any.whl (6.5 kB)\n",
      "Requirement already satisfied: kiwisolver>=1.3.1 in c:\\users\\asdou\\anaconda3\\lib\\site-packages (from roboflow) (1.4.4)\n",
      "Requirement already satisfied: PyYAML>=5.3.1 in c:\\users\\asdou\\anaconda3\\lib\\site-packages (from roboflow) (6.0)\n",
      "Requirement already satisfied: tqdm>=4.41.0 in c:\\users\\asdou\\anaconda3\\lib\\site-packages (from roboflow) (4.64.1)\n",
      "Requirement already satisfied: requests in c:\\users\\asdou\\anaconda3\\lib\\site-packages (from roboflow) (2.28.1)\n",
      "Requirement already satisfied: urllib3>=1.26.6 in c:\\users\\asdou\\anaconda3\\lib\\site-packages (from roboflow) (1.26.14)\n",
      "Requirement already satisfied: certifi==2022.12.7 in c:\\users\\asdou\\anaconda3\\lib\\site-packages (from roboflow) (2022.12.7)\n",
      "Collecting idna==2.10\n",
      "  Downloading idna-2.10-py2.py3-none-any.whl (58 kB)\n",
      "     ---------------------------------------- 58.8/58.8 kB 3.0 MB/s eta 0:00:00\n",
      "Requirement already satisfied: chardet==4.0.0 in c:\\users\\asdou\\anaconda3\\lib\\site-packages (from roboflow) (4.0.0)\n",
      "Requirement already satisfied: python-dateutil in c:\\users\\asdou\\anaconda3\\lib\\site-packages (from roboflow) (2.8.2)\n",
      "Requirement already satisfied: colorama in c:\\users\\asdou\\anaconda3\\lib\\site-packages (from tqdm>=4.41.0->roboflow) (0.4.6)\n",
      "Requirement already satisfied: fonttools>=4.22.0 in c:\\users\\asdou\\anaconda3\\lib\\site-packages (from matplotlib->roboflow) (4.25.0)\n",
      "Requirement already satisfied: packaging>=20.0 in c:\\users\\asdou\\anaconda3\\lib\\site-packages (from matplotlib->roboflow) (22.0)\n",
      "Requirement already satisfied: contourpy>=1.0.1 in c:\\users\\asdou\\anaconda3\\lib\\site-packages (from matplotlib->roboflow) (1.0.5)\n",
      "Requirement already satisfied: charset-normalizer<3,>=2 in c:\\users\\asdou\\anaconda3\\lib\\site-packages (from requests->roboflow) (2.0.4)\n",
      "Requirement already satisfied: scipy<2.0.0,>=1.9.0 in c:\\users\\asdou\\anaconda3\\lib\\site-packages (from supervision->roboflow) (1.10.0)\n",
      "Collecting matplotlib\n",
      "  Downloading matplotlib-3.7.2-cp310-cp310-win_amd64.whl (7.5 MB)\n",
      "     ---------------------------------------- 7.5/7.5 MB 10.9 MB/s eta 0:00:00\n",
      "Installing collected packages: pyparsing, opencv-python-headless, idna, cycler, matplotlib, supervision, roboflow\n",
      "  Attempting uninstall: pyparsing\n",
      "    Found existing installation: pyparsing 3.0.9\n",
      "    Uninstalling pyparsing-3.0.9:\n",
      "      Successfully uninstalled pyparsing-3.0.9\n",
      "  Attempting uninstall: opencv-python-headless\n",
      "    Found existing installation: opencv-python-headless 4.8.0.76\n",
      "    Uninstalling opencv-python-headless-4.8.0.76:\n",
      "      Successfully uninstalled opencv-python-headless-4.8.0.76\n",
      "  Attempting uninstall: idna\n",
      "    Found existing installation: idna 3.4\n",
      "    Uninstalling idna-3.4:\n",
      "      Successfully uninstalled idna-3.4\n",
      "  Attempting uninstall: cycler\n",
      "    Found existing installation: cycler 0.11.0\n",
      "    Uninstalling cycler-0.11.0:\n",
      "      Successfully uninstalled cycler-0.11.0\n",
      "  Attempting uninstall: matplotlib\n",
      "    Found existing installation: matplotlib 3.7.0\n",
      "    Uninstalling matplotlib-3.7.0:\n",
      "      Successfully uninstalled matplotlib-3.7.0\n",
      "Successfully installed cycler-0.10.0 idna-2.10 matplotlib-3.7.2 opencv-python-headless-4.8.0.74 pyparsing-2.4.7 roboflow-1.1.6 supervision-0.14.0\n",
      "Note: you may need to restart the kernel to use updated packages.\n"
     ]
    },
    {
     "name": "stderr",
     "output_type": "stream",
     "text": [
      "ERROR: pip's dependency resolver does not currently take into account all the packages that are installed. This behaviour is the source of the following dependency conflicts.\n",
      "conda-repo-cli 1.0.41 requires requests_mock, which is not installed.\n",
      "conda-repo-cli 1.0.41 requires clyent==1.2.1, but you have clyent 1.2.2 which is incompatible.\n",
      "conda-repo-cli 1.0.41 requires nbformat==5.4.0, but you have nbformat 5.7.0 which is incompatible.\n"
     ]
    }
   ],
   "source": [
    "pip install roboflow"
   ]
  },
  {
   "cell_type": "code",
   "execution_count": null,
   "metadata": {},
   "outputs": [],
   "source": [
    "pip install --upgrade tensorflow"
   ]
  },
  {
   "cell_type": "code",
   "execution_count": null,
   "metadata": {},
   "outputs": [],
   "source": [
    "pip install --upgrade tensorflow_hub"
   ]
  },
  {
   "cell_type": "code",
   "execution_count": 3,
   "metadata": {},
   "outputs": [
    {
     "name": "stdout",
     "output_type": "stream",
     "text": [
      "Collecting easyocr\n",
      "  Downloading easyocr-1.7.1-py3-none-any.whl (2.9 MB)\n",
      "     ---------------------------------------- 2.9/2.9 MB 9.1 MB/s eta 0:00:00\n",
      "Collecting opencv-python-headless\n",
      "  Downloading opencv_python_headless-4.8.0.76-cp37-abi3-win_amd64.whl (38.0 MB)\n",
      "     ---------------------------------------- 38.0/38.0 MB 9.8 MB/s eta 0:00:00\n",
      "Requirement already satisfied: scikit-image in c:\\users\\asdou\\anaconda3\\lib\\site-packages (from easyocr) (0.19.3)\n",
      "Collecting ninja\n",
      "  Downloading ninja-1.11.1-py2.py3-none-win_amd64.whl (313 kB)\n",
      "     -------------------------------------- 313.0/313.0 kB 3.9 MB/s eta 0:00:00\n",
      "Requirement already satisfied: scipy in c:\\users\\asdou\\anaconda3\\lib\\site-packages (from easyocr) (1.10.0)\n",
      "Collecting pyclipper\n",
      "  Downloading pyclipper-1.3.0.post5-cp310-cp310-win_amd64.whl (108 kB)\n",
      "     -------------------------------------- 108.2/108.2 kB 2.1 MB/s eta 0:00:00\n",
      "Requirement already satisfied: torch in c:\\users\\asdou\\anaconda3\\lib\\site-packages (from easyocr) (2.0.1)\n",
      "Collecting Shapely\n",
      "  Downloading shapely-2.0.1-cp310-cp310-win_amd64.whl (1.4 MB)\n",
      "     ---------------------------------------- 1.4/1.4 MB 8.6 MB/s eta 0:00:00\n",
      "Requirement already satisfied: torchvision>=0.5 in c:\\users\\asdou\\anaconda3\\lib\\site-packages (from easyocr) (0.15.2)\n",
      "Requirement already satisfied: PyYAML in c:\\users\\asdou\\anaconda3\\lib\\site-packages (from easyocr) (6.0)\n",
      "Requirement already satisfied: numpy in c:\\users\\asdou\\anaconda3\\lib\\site-packages (from easyocr) (1.23.5)\n",
      "Requirement already satisfied: Pillow in c:\\users\\asdou\\anaconda3\\lib\\site-packages (from easyocr) (9.4.0)\n",
      "Collecting python-bidi\n",
      "  Downloading python_bidi-0.4.2-py2.py3-none-any.whl (30 kB)\n",
      "Requirement already satisfied: requests in c:\\users\\asdou\\anaconda3\\lib\\site-packages (from torchvision>=0.5->easyocr) (2.28.1)\n",
      "Requirement already satisfied: typing-extensions in c:\\users\\asdou\\anaconda3\\lib\\site-packages (from torch->easyocr) (4.4.0)\n",
      "Requirement already satisfied: networkx in c:\\users\\asdou\\anaconda3\\lib\\site-packages (from torch->easyocr) (2.8.4)\n",
      "Requirement already satisfied: filelock in c:\\users\\asdou\\anaconda3\\lib\\site-packages (from torch->easyocr) (3.9.0)\n",
      "Requirement already satisfied: jinja2 in c:\\users\\asdou\\anaconda3\\lib\\site-packages (from torch->easyocr) (3.1.2)\n",
      "Requirement already satisfied: sympy in c:\\users\\asdou\\anaconda3\\lib\\site-packages (from torch->easyocr) (1.11.1)\n",
      "Requirement already satisfied: six in c:\\users\\asdou\\anaconda3\\lib\\site-packages (from python-bidi->easyocr) (1.16.0)\n",
      "Requirement already satisfied: PyWavelets>=1.1.1 in c:\\users\\asdou\\anaconda3\\lib\\site-packages (from scikit-image->easyocr) (1.4.1)\n",
      "Requirement already satisfied: imageio>=2.4.1 in c:\\users\\asdou\\anaconda3\\lib\\site-packages (from scikit-image->easyocr) (2.26.0)\n",
      "Requirement already satisfied: tifffile>=2019.7.26 in c:\\users\\asdou\\anaconda3\\lib\\site-packages (from scikit-image->easyocr) (2021.7.2)\n",
      "Requirement already satisfied: packaging>=20.0 in c:\\users\\asdou\\anaconda3\\lib\\site-packages (from scikit-image->easyocr) (22.0)\n",
      "Requirement already satisfied: MarkupSafe>=2.0 in c:\\users\\asdou\\anaconda3\\lib\\site-packages (from jinja2->torch->easyocr) (2.1.1)\n",
      "Requirement already satisfied: urllib3<1.27,>=1.21.1 in c:\\users\\asdou\\anaconda3\\lib\\site-packages (from requests->torchvision>=0.5->easyocr) (1.26.14)\n",
      "Requirement already satisfied: charset-normalizer<3,>=2 in c:\\users\\asdou\\anaconda3\\lib\\site-packages (from requests->torchvision>=0.5->easyocr) (2.0.4)\n",
      "Requirement already satisfied: idna<4,>=2.5 in c:\\users\\asdou\\anaconda3\\lib\\site-packages (from requests->torchvision>=0.5->easyocr) (3.4)\n",
      "Requirement already satisfied: certifi>=2017.4.17 in c:\\users\\asdou\\anaconda3\\lib\\site-packages (from requests->torchvision>=0.5->easyocr) (2022.12.7)\n",
      "Requirement already satisfied: mpmath>=0.19 in c:\\users\\asdou\\anaconda3\\lib\\site-packages (from sympy->torch->easyocr) (1.2.1)\n",
      "Installing collected packages: pyclipper, ninja, Shapely, python-bidi, opencv-python-headless, easyocr\n",
      "Successfully installed Shapely-2.0.1 easyocr-1.7.1 ninja-1.11.1 opencv-python-headless-4.8.0.76 pyclipper-1.3.0.post5 python-bidi-0.4.2\n",
      "Note: you may need to restart the kernel to use updated packages.\n"
     ]
    }
   ],
   "source": [
    "pip install easyocr"
   ]
  }
 ],
 "metadata": {
  "kernelspec": {
   "display_name": "base",
   "language": "python",
   "name": "python3"
  },
  "language_info": {
   "codemirror_mode": {
    "name": "ipython",
    "version": 3
   },
   "file_extension": ".py",
   "mimetype": "text/x-python",
   "name": "python",
   "nbconvert_exporter": "python",
   "pygments_lexer": "ipython3",
   "version": "3.10.9"
  },
  "orig_nbformat": 4
 },
 "nbformat": 4,
 "nbformat_minor": 2
}
